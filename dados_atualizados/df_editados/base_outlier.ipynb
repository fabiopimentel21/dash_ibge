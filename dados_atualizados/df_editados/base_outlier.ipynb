{
 "cells": [
  {
   "cell_type": "code",
   "execution_count": 1,
   "id": "5f5656f9",
   "metadata": {},
   "outputs": [],
   "source": [
    "import pandas as pd\n",
    "import numpy as ny"
   ]
  },
  {
   "cell_type": "code",
   "execution_count": 7,
   "id": "772a5e06",
   "metadata": {},
   "outputs": [],
   "source": [
    "base_outlier = pd.read_excel(r'C:\\Users\\devma\\Desktop\\DEMANDAS\\IBGE\\dash_ibge\\dados_atualizados\\df_editados\\base_completa_final.xlsx')"
   ]
  },
  {
   "cell_type": "code",
   "execution_count": 5,
   "id": "0ef5af25",
   "metadata": {},
   "outputs": [
    {
     "data": {
      "text/plain": [
       "Index(['CD_BAIRRO', 'NM_BAIRRO', 'Quantidade de moradores', 'Sexo masculino',\n",
       "       'Sexo feminino', 'Sexo masculino, 0 a 4 anos',\n",
       "       'Sexo masculino, 5 a 9 anos', 'Sexo masculino, 10 a 14 anos',\n",
       "       'Sexo masculino, 15 a 19 anos', 'Sexo masculino, 20 a 24 anos',\n",
       "       ...\n",
       "       'Domicílios Particulares Permanentes Ocupados, Domicílio possui ligação à rede geral de distribuição de água, mas utiliza principalmente outra forma, Pessoas de sexo masculino no domicílio',\n",
       "       'Domicílios Particulares Permanentes Ocupados, Domicílio não possui ligação à rede geral de distribuição de água, Pessoas de sexo masculino no domicílio',\n",
       "       'Domicílios Particulares Permanentes Ocupados, Domicílio possui ligação à rede geral de distribuição de água, mas utiliza principalmente outra forma, Pessoas de sexo feminino no domicílio',\n",
       "       'Domicílios Particulares Permanentes Ocupados, Domicílio não possui ligação à rede geral de distribuição de água, Pessoas de sexo feminino no domicílio',\n",
       "       'CD_BAIRRO_sufixo3',\n",
       "       'Pessoas responsáveis em domicílios particulares permanentes ocupados',\n",
       "       'Moradores em domicílios particulares permanentes ocupados',\n",
       "       'Variância do número de moradores em domicílios particulares permanentes ocupados',\n",
       "       'Valor do rendimento nominal médio mensal das pessoas responsáveis com rendimentos por domicílios particulares permanentes ocupados',\n",
       "       'Variância do rendimento nominal mensal das pessoas responsáveis com rendimentos por domicílios particulares permanentes ocupados'],\n",
       "      dtype='object', length=690)"
      ]
     },
     "execution_count": 5,
     "metadata": {},
     "output_type": "execute_result"
    }
   ],
   "source": [
    "base_outlier.columns"
   ]
  }
 ],
 "metadata": {
  "kernelspec": {
   "display_name": "Python 3",
   "language": "python",
   "name": "python3"
  },
  "language_info": {
   "codemirror_mode": {
    "name": "ipython",
    "version": 3
   },
   "file_extension": ".py",
   "mimetype": "text/x-python",
   "name": "python",
   "nbconvert_exporter": "python",
   "pygments_lexer": "ipython3",
   "version": "3.10.0"
  }
 },
 "nbformat": 4,
 "nbformat_minor": 5
}
