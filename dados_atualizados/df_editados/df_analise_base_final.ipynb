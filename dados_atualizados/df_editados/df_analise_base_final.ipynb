{
 "cells": [
  {
   "cell_type": "code",
   "execution_count": 1,
   "id": "732dad8f",
   "metadata": {},
   "outputs": [],
   "source": [
    "import pandas as pd \n",
    "import numpy as ny\n",
    "import matplotlib.pyplot as plt\n",
    "\n",
    "df_caracteristicas = pd.read_csv(r'C:\\Users\\devma\\Desktop\\DEMANDAS\\IBGE\\dados_atualizados\\df_editados\\df_caracteristicas_editada.csv')\n",
    "df_denografico_01 = pd.read_csv(r'C:\\Users\\devma\\Desktop\\DEMANDAS\\IBGE\\dados_atualizados\\df_editados\\df_demogarfico_01_editada.csv')\n",
    "df_denografico_02 = pd.read_csv(r'C:\\Users\\devma\\Desktop\\DEMANDAS\\IBGE\\dados_atualizados\\df_editados\\df_demografico_02_editada.csv')\n",
    "df_denografico_03 = pd.read_csv(r'C:\\Users\\devma\\Desktop\\DEMANDAS\\IBGE\\dados_atualizados\\df_editados\\df_demografico_03_editada.csv')\n",
    "df_renda = pd.read_csv(r'C:\\Users\\devma\\Desktop\\DEMANDAS\\IBGE\\dados_atualizados\\df_editados\\df_renda_editada.csv')\n"
   ]
  },
  {
   "cell_type": "code",
   "execution_count": 2,
   "id": "0a9bcb9a",
   "metadata": {},
   "outputs": [
    {
     "data": {
      "text/plain": [
       "Index(['CD_BAIRRO', 'NM_BAIRRO',\n",
       "       'Domicílios Particulares Permanentes Ocupados, Tipo de espécie é casa, Cor ou raça da pessoa responsável pelo domicílio é branca',\n",
       "       'Domicílios Particulares Permanentes Ocupados, Tipo de espécie é casa, Cor ou raça da pessoa responsável pelo domicílio é preta',\n",
       "       'Domicílios Particulares Permanentes Ocupados, Tipo de espécie é casa, Cor ou raça da pessoa responsável pelo domicílio é amarela',\n",
       "       'Domicílios Particulares Permanentes Ocupados, Tipo de espécie é casa, Cor ou raça da pessoa responsável pelo domicílio é parda',\n",
       "       'Domicílios Particulares Permanentes Ocupados, Tipo de espécie é casa, Cor ou raça da pessoa responsável pelo domicílio é indígena',\n",
       "       'Domicílios Particulares Permanentes Ocupados, Tipo de espécie é casa de vila ou em condomínio, Cor ou raça da pessoa responsável pelo domicílio é branca',\n",
       "       'Domicílios Particulares Permanentes Ocupados, Tipo de espécie é casa de vila ou em condomínio, Cor ou raça da pessoa responsável pelo domicílio é preta',\n",
       "       'Domicílios Particulares Permanentes Ocupados, Tipo de espécie é casa de vila ou em condomínio, Cor ou raça da pessoa responsável pelo domicílio é amarela',\n",
       "       ...\n",
       "       'Domicílios Particulares Permanentes Ocupados, 2 banheiros de uso exclusivo com chuveiro e vaso sanitário existentes no domicílio.1',\n",
       "       'Domicílios Particulares Permanentes Ocupados, 3 banheiros de uso exclusivo com chuveiro e vaso sanitário existentes no domicílio.1',\n",
       "       'Domicílios Particulares Permanentes Ocupados, 4 banheiros de uso exclusivo com chuveiro e vaso sanitário existentes no domicílio',\n",
       "       'Domicílios Particulares Permanentes Ocupados, 5 banheiros de uso exclusivo com chuveiro e vaso sanitário existentes no domicílio',\n",
       "       'Domicílios Particulares Permanentes Ocupados, 6 banheiros de uso exclusivo com chuveiro e vaso sanitário existentes no domicílio',\n",
       "       'Domicílios Particulares Permanentes Ocupados, 7 banheiros de uso exclusivo com chuveiro e vaso sanitário existentes no domicílio',\n",
       "       'Domicílios Particulares Permanentes Ocupados, 8 banheiros de uso exclusivo com chuveiro e vaso sanitário existentes no domicílio',\n",
       "       'Domicílios Particulares Permanentes Ocupados, 9 ou mais banheiros de uso exclusivo com chuveiro e vaso sanitário existentes no domicílio',\n",
       "       'Domicílios Particulares Permanentes Ocupados, Com banheiro de uso exclusivo com chuveiro e vaso sanitário',\n",
       "       'Domicílios Particulares Permanentes Ocupados, Sem banheiro de uso exclusivo com chuveiro e vaso sanitário'],\n",
       "      dtype='object', length=408)"
      ]
     },
     "execution_count": 2,
     "metadata": {},
     "output_type": "execute_result"
    }
   ],
   "source": [
    "df_denografico_02.columns"
   ]
  },
  {
   "cell_type": "code",
   "execution_count": null,
   "id": "6e683903",
   "metadata": {},
   "outputs": [],
   "source": [
    "# Lista de DataFrames a serem unidos multiplos merges\n",
    "dfs = [df_denografico_01, df_denografico_02, df_denografico_03, df_renda]\n",
    "\n",
    "# Começa com df_caracteristicas\n",
    "base = df_caracteristicas.copy()\n",
    "\n",
    "# Faz merge sequencial\n",
    "for i, df in enumerate(dfs):\n",
    "    base = pd.merge(base, df, on='NM_BAIRRO', how='left', suffixes=('', f'_sufixo{i}'))\n",
    "\n",
    "base_completa_final = base\n",
    "\n",
    "\n",
    "\n",
    "#base_completa_final\n",
    "\n"
   ]
  },
  {
   "cell_type": "code",
   "execution_count": 4,
   "id": "8c23565f",
   "metadata": {},
   "outputs": [],
   "source": [
    "base_completa_final.to_csv('base_completa_final.csv', index=False)"
   ]
  },
  {
   "cell_type": "code",
   "execution_count": 5,
   "id": "afa9bc57",
   "metadata": {},
   "outputs": [],
   "source": [
    "base_completa_final.to_excel('base_completa_final.xlsx', index=False)"
   ]
  },
  {
   "cell_type": "code",
   "execution_count": null,
   "id": "fd3d2d02",
   "metadata": {},
   "outputs": [
    {
     "name": "stdout",
     "output_type": "stream",
     "text": [
      "Index([], dtype='object')\n"
     ]
    }
   ],
   "source": [
    "# encontrando duplicatas do df_final \n",
    "\n",
    "\n",
    "duplicadas = base_completa_final.columns[base_completa_final.columns.duplicated()]\n",
    "print(duplicadas)"
   ]
  },
  {
   "cell_type": "code",
   "execution_count": null,
   "id": "a0bfb590",
   "metadata": {},
   "outputs": [],
   "source": []
  }
 ],
 "metadata": {
  "kernelspec": {
   "display_name": "ibge (3.10.0)",
   "language": "python",
   "name": "python3"
  },
  "language_info": {
   "codemirror_mode": {
    "name": "ipython",
    "version": 3
   },
   "file_extension": ".py",
   "mimetype": "text/x-python",
   "name": "python",
   "nbconvert_exporter": "python",
   "pygments_lexer": "ipython3",
   "version": "3.10.0"
  }
 },
 "nbformat": 4,
 "nbformat_minor": 5
}
